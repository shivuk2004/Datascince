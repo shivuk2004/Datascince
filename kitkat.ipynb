{
 "cells": [
  {
   "cell_type": "code",
   "execution_count": 50,
   "id": "fe26f8be-41ed-4ffe-a262-22affdf92592",
   "metadata": {},
   "outputs": [
    {
     "name": "stdout",
     "output_type": "stream",
     "text": [
      "[[ 1  2]\n",
      " [ 3  4]\n",
      " [ 5  6]\n",
      " [ 7  8]\n",
      " [ 9 10]\n",
      " [11 12]\n",
      " [13 14]\n",
      " [15 16]\n",
      " [17 18]]\n",
      "[[ 1  3  5  7  9 11 13 15 17]\n",
      " [ 2  4  6  8 10 12 14 16 18]]\n",
      "[ 1  2  3  4  5  6  7  8  9 10 11 12 13 14 15 16 17 18]\n"
     ]
    }
   ],
   "source": [
    "import numpy as np\n",
    "arr=np.array([1,2,3,4,5,6,7,8,9,10,11,12,13,14,15,16,17,18])\n",
    "rarr=arr.reshape(9,2)\n",
    "print(rarr)\n",
    "tarr=np.transpose(rarr)\n",
    "print(tarr)\n",
    "rarr=arr.reshape(-1)\n",
    "print(rarr)"
   ]
  },
  {
   "cell_type": "code",
   "execution_count": 4,
   "id": "5ecfa5db-da62-4d9e-bcfd-6b2ac0f4427b",
   "metadata": {},
   "outputs": [
    {
     "data": {
      "text/plain": [
       "6"
      ]
     },
     "execution_count": 4,
     "metadata": {},
     "output_type": "execute_result"
    }
   ],
   "source": [
    "rarr.flat[5]\n"
   ]
  },
  {
   "cell_type": "code",
   "execution_count": 5,
   "id": "80c87cf2-7043-4347-94c5-11aa5aa4c44a",
   "metadata": {},
   "outputs": [
    {
     "data": {
      "text/plain": [
       "array([ 1,  2,  3,  4,  5,  6,  7,  8,  9, 10])"
      ]
     },
     "execution_count": 5,
     "metadata": {},
     "output_type": "execute_result"
    }
   ],
   "source": [
    "arr1=np.array([1,2,3,4,5])\n",
    "arr2=np.array([6,7,8,9,10])\n",
    "carr=np.concatenate((arr1,arr2))\n",
    "carr\n",
    "\n"
   ]
  },
  {
   "cell_type": "code",
   "execution_count": 8,
   "id": "b1b018a3-5997-4de9-b9a1-811a0b0c0701",
   "metadata": {},
   "outputs": [],
   "source": [
    "arr1=np.array([[1,2],[3,4]])\n",
    "arr2=np.array([[5,6],[7,8]])\n",
    "carr=np.concatenate((arr1,arr2),axis=1)\n"
   ]
  },
  {
   "cell_type": "code",
   "execution_count": 12,
   "id": "886b90a0-803d-4500-b320-482d109c5a7c",
   "metadata": {},
   "outputs": [
    {
     "data": {
      "text/plain": [
       "array(['goutam', 'paku', 'shivu', 'vinay'], dtype='<U6')"
      ]
     },
     "execution_count": 12,
     "metadata": {},
     "output_type": "execute_result"
    }
   ],
   "source": [
    "arr1=np.array([\"shivu\",\"paku\",\"goutam\",\"vinay\"])\n",
    "np.sort(arr1)"
   ]
  },
  {
   "cell_type": "code",
   "execution_count": 26,
   "id": "5f84fd16-594f-41df-b4b4-bdcaf82ca014",
   "metadata": {},
   "outputs": [
    {
     "name": "stdout",
     "output_type": "stream",
     "text": [
      "1\n",
      "2\n",
      "3\n",
      "4\n",
      "5\n",
      "6\n",
      "7\n",
      "8\n",
      "9\n",
      "10\n",
      "11\n",
      "12\n",
      "1\n",
      "14\n",
      "15\n",
      "16\n",
      "17\n",
      "18\n"
     ]
    }
   ],
   "source": [
    "for i in np.nditer(arr):\n",
    "    print(i)"
   ]
  },
  {
   "cell_type": "code",
   "execution_count": 27,
   "id": "7dedd9df-c218-4ed9-b4c1-0f1674d0ec89",
   "metadata": {},
   "outputs": [
    {
     "data": {
      "text/plain": [
       "(array([5, 8], dtype=int64),)"
      ]
     },
     "execution_count": 27,
     "metadata": {},
     "output_type": "execute_result"
    }
   ],
   "source": [
    "arr=np.array([10,11,12,13,14,15,26,27,15,29,30,31,32])\n",
    "x=np.where(arr==15)\n",
    "x"
   ]
  },
  {
   "cell_type": "code",
   "execution_count": 36,
   "id": "2b53895c-7968-478f-b4a2-22767462c91a",
   "metadata": {},
   "outputs": [
    {
     "data": {
      "text/plain": [
       "array([1, 3, 5, 7, 9])"
      ]
     },
     "execution_count": 36,
     "metadata": {},
     "output_type": "execute_result"
    }
   ],
   "source": [
    "nums=np.array([1,2,3,4,5,6,7,8,9,10])\n",
    "b=[True,False,True,False,True,False,True,False,True,False]\n",
    "newarr=nums[b]\n",
    "newarr"
   ]
  },
  {
   "cell_type": "code",
   "execution_count": 37,
   "id": "3c396e7e-0291-486f-876e-7e760e4472ba",
   "metadata": {},
   "outputs": [
    {
     "data": {
      "text/plain": [
       "array([ 2,  4,  6,  8, 10])"
      ]
     },
     "execution_count": 37,
     "metadata": {},
     "output_type": "execute_result"
    }
   ],
   "source": [
    "evens=np.array(list(filter(lambda n:n%2==0,nums)))\n",
    "evens"
   ]
  },
  {
   "cell_type": "code",
   "execution_count": 38,
   "id": "c93bce10-76c8-4770-8d25-b1a7bea37a65",
   "metadata": {},
   "outputs": [
    {
     "data": {
      "text/plain": [
       "array([  4,  16,  36,  64, 100])"
      ]
     },
     "execution_count": 38,
     "metadata": {},
     "output_type": "execute_result"
    }
   ],
   "source": [
    "d=np.array(list(map(lambda n:n*n,evens)))\n",
    "d"
   ]
  },
  {
   "cell_type": "code",
   "execution_count": 40,
   "id": "d16a0b33-44bc-4b09-8659-183f8a87ed29",
   "metadata": {},
   "outputs": [
    {
     "data": {
      "text/plain": [
       "220"
      ]
     },
     "execution_count": 40,
     "metadata": {},
     "output_type": "execute_result"
    }
   ],
   "source": [
    "from functools import reduce\n",
    "res=reduce(lambda n,m:n+m ,d)\n",
    "res"
   ]
  },
  {
   "cell_type": "code",
   "execution_count": 41,
   "id": "c9276f36-43c3-4e61-bc22-fad5d5708dff",
   "metadata": {},
   "outputs": [
    {
     "data": {
      "text/plain": [
       "20.384615384615383"
      ]
     },
     "execution_count": 41,
     "metadata": {},
     "output_type": "execute_result"
    }
   ],
   "source": [
    "#Mean,Median,Mode\n",
    "arr=np.array([10,11,12,13,14,15,26,27,15,29,30,31,32])\n",
    "np.mean(arr)\n"
   ]
  },
  {
   "cell_type": "code",
   "execution_count": 43,
   "id": "dbaea8a3-2f54-47f9-b503-d340a9923bca",
   "metadata": {},
   "outputs": [
    {
     "data": {
      "text/plain": [
       "ModeResult(mode=15, count=2)"
      ]
     },
     "execution_count": 43,
     "metadata": {},
     "output_type": "execute_result"
    }
   ],
   "source": [
    "from scipy import stats\n",
    "stats.mode(arr)"
   ]
  },
  {
   "cell_type": "code",
   "execution_count": 44,
   "id": "2e8b5044-ff98-4ce3-a01c-a2aadcb77bd6",
   "metadata": {},
   "outputs": [
    {
     "data": {
      "text/plain": [
       "array([0., 0., 0., 0., 0.])"
      ]
     },
     "execution_count": 44,
     "metadata": {},
     "output_type": "execute_result"
    }
   ],
   "source": [
    "zeros=np.zeros(5)\n",
    "#zeros"
   ]
  },
  {
   "cell_type": "code",
   "execution_count": 45,
   "id": "a52c2b0e-9922-4c77-b282-ae0e183e15ed",
   "metadata": {},
   "outputs": [
    {
     "data": {
      "text/plain": [
       "array([1., 1., 1., 1., 1.])"
      ]
     },
     "execution_count": 45,
     "metadata": {},
     "output_type": "execute_result"
    }
   ],
   "source": [
    "ones=np.ones(5)\n",
    "#ones"
   ]
  },
  {
   "cell_type": "code",
   "execution_count": 46,
   "id": "bce20eb8-ba35-4597-946c-1f8704010798",
   "metadata": {},
   "outputs": [
    {
     "data": {
      "text/plain": [
       "array([ 0.        ,  1.11111111,  2.22222222,  3.33333333,  4.44444444,\n",
       "        5.55555556,  6.66666667,  7.77777778,  8.88888889, 10.        ])"
      ]
     },
     "execution_count": 46,
     "metadata": {},
     "output_type": "execute_result"
    }
   ],
   "source": [
    "lins=np.linspace(0,10,10)\n",
    "#lins"
   ]
  },
  {
   "cell_type": "code",
   "execution_count": 48,
   "id": "6df1d185-127c-47e7-b9ff-4e57a5db247e",
   "metadata": {},
   "outputs": [
    {
     "data": {
      "text/plain": [
       "array([1.00000000e+01, 1.52641797e+01, 2.32995181e+01, 3.55648031e+01,\n",
       "       5.42867544e+01, 8.28642773e+01, 1.26485522e+02, 1.93069773e+02,\n",
       "       2.94705170e+02, 4.49843267e+02, 6.86648845e+02, 1.04811313e+03,\n",
       "       1.59985872e+03, 2.44205309e+03, 3.72759372e+03, 5.68986603e+03,\n",
       "       8.68511374e+03, 1.32571137e+04, 2.02358965e+04, 3.08884360e+04,\n",
       "       4.71486636e+04, 7.19685673e+04, 1.09854114e+05, 1.67683294e+05,\n",
       "       2.55954792e+05, 3.90693994e+05, 5.96362332e+05, 9.10298178e+05,\n",
       "       1.38949549e+06, 2.12095089e+06, 3.23745754e+06, 4.94171336e+06,\n",
       "       7.54312006e+06, 1.15139540e+07, 1.75751062e+07, 2.68269580e+07,\n",
       "       4.09491506e+07, 6.25055193e+07, 9.54095476e+07, 1.45634848e+08,\n",
       "       2.22299648e+08, 3.39322177e+08, 5.17947468e+08, 7.90604321e+08,\n",
       "       1.20679264e+09, 1.84206997e+09, 2.81176870e+09, 4.29193426e+09,\n",
       "       6.55128557e+09, 1.00000000e+10])"
      ]
     },
     "execution_count": 48,
     "metadata": {},
     "output_type": "execute_result"
    }
   ],
   "source": [
    "logs=np.logspace(1,10)\n",
    "logs"
   ]
  },
  {
   "cell_type": "code",
   "execution_count": 49,
   "id": "6e6cb104-7ea0-4ef3-a552-99ae0580b837",
   "metadata": {},
   "outputs": [
    {
     "data": {
      "text/plain": [
       "array([0, 2, 4])"
      ]
     },
     "execution_count": 49,
     "metadata": {},
     "output_type": "execute_result"
    }
   ],
   "source": [
    "r=np.arange(0,5,2)\n",
    "#r"
   ]
  },
  {
   "cell_type": "code",
   "execution_count": 53,
   "id": "b502d02e-adcd-4db0-9858-c61511bf0537",
   "metadata": {},
   "outputs": [
    {
     "data": {
      "text/plain": [
       "array([[18, 14, 46],\n",
       "       [51, 18, 46],\n",
       "       [40, 12, 22],\n",
       "       [20, 19, 25],\n",
       "       [36, 15, 36],\n",
       "       [53, 35, 37]])"
      ]
     },
     "execution_count": 53,
     "metadata": {},
     "output_type": "execute_result"
    }
   ],
   "source": [
    "x=np.random.randint(10,55,(6,3))\n",
    "x"
   ]
  },
  {
   "cell_type": "code",
   "execution_count": 54,
   "id": "01bc152b-fc73-4fd5-ae45-207adcc88b62",
   "metadata": {},
   "outputs": [
    {
     "data": {
      "text/plain": [
       "array(['ans3', 'ans1', 'ans4', 'ans2'], dtype='<U4')"
      ]
     },
     "execution_count": 54,
     "metadata": {},
     "output_type": "execute_result"
    }
   ],
   "source": [
    "answer=np.array([\"ans1\",\"ans2\",\"ans3\",\"ans4\"])\n",
    "np.random.shuffle(answer)\n",
    "answer"
   ]
  },
  {
   "cell_type": "code",
   "execution_count": null,
   "id": "29e8fccc-d3db-4afa-9874-430326ea0eec",
   "metadata": {},
   "outputs": [],
   "source": []
  }
 ],
 "metadata": {
  "kernelspec": {
   "display_name": "Python 3 (ipykernel)",
   "language": "python",
   "name": "python3"
  },
  "language_info": {
   "codemirror_mode": {
    "name": "ipython",
    "version": 3
   },
   "file_extension": ".py",
   "mimetype": "text/x-python",
   "name": "python",
   "nbconvert_exporter": "python",
   "pygments_lexer": "ipython3",
   "version": "3.11.7"
  }
 },
 "nbformat": 4,
 "nbformat_minor": 5
}
