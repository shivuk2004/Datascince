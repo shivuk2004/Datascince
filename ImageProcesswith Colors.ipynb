{
 "cells": [
  {
   "cell_type": "code",
   "execution_count": 1,
   "id": "1eba324f-a36e-4ca0-be90-a2fbc1accdf5",
   "metadata": {},
   "outputs": [
    {
     "data": {
      "text/plain": [
       "<function destroyAllWindows>"
      ]
     },
     "execution_count": 1,
     "metadata": {},
     "output_type": "execute_result"
    }
   ],
   "source": [
    "import cv2\n",
    "img=cv2.imread('img.jpg')\n",
    "cv2.imshow('Pepsi and Coke',img)\n",
    "cv2.waitKey(0)\n",
    "cv2.destroyAllWindows()\n"
   ]
  },
  {
   "cell_type": "code",
   "execution_count": 10,
   "id": "ed771f54-8f26-4589-8baf-751b8256c808",
   "metadata": {},
   "outputs": [],
   "source": [
    "hsv=cv2.cvtColor(img,cv2.COLOR_BGR2HSV)\n",
    "cv2.imshow('Pepsi and Coke',hsv)\n",
    "cv2.waitKey(0)\n",
    "cv2.destroyAllWindows()\n"
   ]
  },
  {
   "cell_type": "code",
   "execution_count": 11,
   "id": "14aaf3af-daee-4c3b-acd7-32cec14ceaae",
   "metadata": {},
   "outputs": [],
   "source": [
    "mask=cv2.inRange(hsv,(0,100,100),(30,255,255))\n",
    "cv2.imshow('Pepsi and Coke',mask)\n",
    "cv2.waitKey(0)\n",
    "cv2.destroyAllWindows()\n"
   ]
  },
  {
   "cell_type": "code",
   "execution_count": 17,
   "id": "f8a19dea-cb1e-47c4-811c-99f1f19509ca",
   "metadata": {},
   "outputs": [],
   "source": [
    "conts,h=cv2.findContours(mask.copy(),cv2.RETR_EXTERNAL,\n",
    "                         cv2.CHAIN_APPROX_NONE)\n",
    "biggest=sorted(conts,key=cv2.contourArea,reverse=True)[0]\n",
    "#biggest\n",
    "x,y,w,h=cv2.boundingRect(biggest)\n",
    "\n",
    "#rect"
   ]
  },
  {
   "cell_type": "code",
   "execution_count": null,
   "id": "c84c8e48-6080-4d21-9da4-8733e30c8b6d",
   "metadata": {},
   "outputs": [],
   "source": [
    "cv2.rectangle(img,(x,y),(x+w,y+h))"
   ]
  }
 ],
 "metadata": {
  "kernelspec": {
   "display_name": "Python 3 (ipykernel)",
   "language": "python",
   "name": "python3"
  },
  "language_info": {
   "codemirror_mode": {
    "name": "ipython",
    "version": 3
   },
   "file_extension": ".py",
   "mimetype": "text/x-python",
   "name": "python",
   "nbconvert_exporter": "python",
   "pygments_lexer": "ipython3",
   "version": "3.11.7"
  }
 },
 "nbformat": 4,
 "nbformat_minor": 5
}
