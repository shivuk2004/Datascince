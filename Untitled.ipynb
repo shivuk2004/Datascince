{
 "cells": [
  {
   "cell_type": "code",
   "execution_count": 1,
   "id": "15c379fa-4c5d-4189-8b9d-32b28ba50e05",
   "metadata": {},
   "outputs": [],
   "source": [
    "from skimage import io\n",
    "import pandas as pd\n",
    "import matplotlib.pyplot as plt"
   ]
  },
  {
   "cell_type": "code",
   "execution_count": null,
   "id": "f5d66a5e-abb4-48f9-bed5-4c672be4b788",
   "metadata": {},
   "outputs": [],
   "source": [
    "img=io.imread('pcs')"
   ]
  }
 ],
 "metadata": {
  "kernelspec": {
   "display_name": "Python 3 (ipykernel)",
   "language": "python",
   "name": "python3"
  },
  "language_info": {
   "codemirror_mode": {
    "name": "ipython",
    "version": 3
   },
   "file_extension": ".py",
   "mimetype": "text/x-python",
   "name": "python",
   "nbconvert_exporter": "python",
   "pygments_lexer": "ipython3",
   "version": "3.11.7"
  }
 },
 "nbformat": 4,
 "nbformat_minor": 5
}
